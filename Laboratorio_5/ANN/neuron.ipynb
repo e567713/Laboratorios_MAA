{
 "cells": [
  {
   "cell_type": "code",
   "execution_count": 1,
   "metadata": {
    "collapsed": true
   },
   "outputs": [],
   "source": [
    "import random\n",
    "from math import e \n",
    "class Neuron:\n",
    "\tdef __init__(self):\n",
    "\t\tself.weights = []\n",
    "\n",
    "\tdef create(self, n_inputs):\n",
    "\t\t# Inicializa los pesos de la neurona con valores entre -0.5 y 0.5 de forma aleatoria.\n",
    "\t\tself.weights = [round(random.uniform(-0.5,0.5),5) for i in range(n_inputs)]\n",
    "\t\n",
    "\tdef compute_input(self, inputs):\n",
    "\t\t# Calcula la combinación lineal entre los pesos y los valores de las inputs.\n",
    "\t\t# Asume que el valor w0 es el último en la lista de pesos.\n",
    "\t\tresult = self.weights[-1]\n",
    "\t\tfor i in range(len(self.weights)-1):\n",
    "\t\t\tresult += self.weights[i] * inputs[i]\n",
    "\t\treturn result\n",
    "\n",
    "\tdef apply_sigmoid(self, computed_value):\n",
    "\t\t# Aplica la función de sigmoide.\n",
    "\t\treturn 1 / (1 + e**(-computed_value))"
   ]
  }
 ],
 "metadata": {
  "kernelspec": {
   "display_name": "Python 3",
   "language": "python",
   "name": "python3"
  },
  "language_info": {
   "codemirror_mode": {
    "name": "ipython",
    "version": 3
   },
   "file_extension": ".py",
   "mimetype": "text/x-python",
   "name": "python",
   "nbconvert_exporter": "python",
   "pygments_lexer": "ipython3",
   "version": "3.6.2"
  }
 },
 "nbformat": 4,
 "nbformat_minor": 2
}
