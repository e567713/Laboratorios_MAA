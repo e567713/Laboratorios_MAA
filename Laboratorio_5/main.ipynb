{
 "cells": [
  {
   "cell_type": "markdown",
   "metadata": {},
   "source": [
    "### Importaciones"
   ]
  },
  {
   "cell_type": "code",
   "execution_count": 7,
   "metadata": {
    "collapsed": true
   },
   "outputs": [],
   "source": [
    "import sys\n",
    "import utils\n",
    "import copy\n",
    "from naive_bayes import NaiveBayes\n",
    "import id3\n",
    "from tabulate import tabulate"
   ]
  },
  {
   "cell_type": "markdown",
   "metadata": {},
   "source": [
    "### Lectura de datos \"Autism-Adult-Data.arff\""
   ]
  },
  {
   "cell_type": "code",
   "execution_count": 8,
   "metadata": {
    "collapsed": true
   },
   "outputs": [],
   "source": [
    "examples = utils.read_file('Autism-Adult-Data.arff')\n",
    "data_set = examples[0]  # Datos\n",
    "metadata = examples[1]  # Metadatos"
   ]
  },
  {
   "cell_type": "markdown",
   "metadata": {},
   "source": [
    "### Constantes"
   ]
  },
  {
   "cell_type": "code",
   "execution_count": 9,
   "metadata": {
    "collapsed": true
   },
   "outputs": [],
   "source": [
    "target_attr = 'Class/ASD'\n",
    "attributes = ['A1_Score', 'A2_Score','A3_Score','A4_Score','A5_Score', 'A6_Score','A7_Score', 'A8_Score','A9_Score',\n",
    "              'A10_Score','age','gender','ethnicity','jundice','austim','contry_of_res','used_app_before','age_desc',\n",
    "              'relation']\n",
    "categorical_atts = ['A1_Score','A2_Score','A3_Score','A4_Score','A5_Score','A6_Score','A7_Score','A8_Score','A9_Score',\n",
    "                    'A10_Score','gender','ethnicity','jundice','austim','contry_of_res','used_app_before','age_desc',\n",
    "                    'relation']\n",
    "non_categorical_atts = ['age']\n",
    "weight = []\n",
    "categorical_atts_indexes = [0,1,2,3,4,5,6,7,8,9,11,12,13,14,15,16,17,18]\n",
    "non_categorical_atts_indexes = [10]"
   ]
  },
  {
   "cell_type": "markdown",
   "metadata": {},
   "source": [
    "### Transformación de datos\n",
    "A continuanción se procedere a transformar los datos. En primer lugar se busca desaparecer las instancias con valores faltante, para eso se remplaza los valores faltantes por el valor mas común en el atributo. En segundo lugar se procede a transformar los distintos tipos de valores a valores númericos, debido a que regresión logística opera con valores numéricos. Para realizar esto se aplica one hot encoding a los datos."
   ]
  },
  {
   "cell_type": "code",
   "execution_count": 10,
   "metadata": {
    "collapsed": true
   },
   "outputs": [],
   "source": [
    "# Se usa most-common para manejar los missing values\n",
    "data = utils.process_missing_values(data_set, attributes, True)\n",
    "# Decode bytes\n",
    "data = utils.decode_data(data)\n",
    "\n",
    "# Extraemos el target attribute\n",
    "data_ext, data_target_attributes = utils.extract_target_attributes(data)\n",
    "\n",
    "# one hot encoding\n",
    "numeric_data = utils.one_hot_encoding(data_ext, categorical_atts, \n",
    "                                      categorical_atts_indexes, non_categorical_atts, \n",
    "                                      non_categorical_atts_indexes)\n",
    "numeric_attributes = list(numeric_data[0].keys())\n",
    "\n",
    "# Insertamos target attribute\n",
    "utils.insert_target_attributes(numeric_data, target_attr, data_target_attributes)"
   ]
  },
  {
   "attachments": {
    "image.png": {
     "image/png": "[encoded data removed]"
    }
   },
   "cell_type": "markdown",
   "metadata": {},
   "source": [
    "### Normalización\n",
    "Se normalizan los valores numéricos utilizando la técnica de min_max: se re escalan los valores a un rango entre 0 y 1\n",
    "![image.png](attachment:image.png)\n",
    "El re escalamiento se ejecuta en tiempo de entrenamiento, y el conjunto de validación se re escala utilizando los mismos parámetros (min y max) que se calcularon previamente.\n"
   ]
  },
  {
   "cell_type": "code",
   "execution_count": null,
   "metadata": {},
   "outputs": [],
   "source": [
    "#  Se divide el conjunto de datos\n",
    "numeric_validation_set, numeric_training_set = utils.split_20_80(numeric_data)\n",
    "\n",
    "\n",
    "# Normalizamos el training set utilizando la tecnica min-max\n",
    "training_set_scaled, scalation_parameters = utils.scale(copy.deepcopy(numeric_training_set), \n",
    "                                                        numeric_attributes,use_standarization)\n",
    "\n",
    "# Normalizamos el validation set utilizando la tecnica min-max y\n",
    "# los valores que usamos para normalizar el training\n",
    "validation_set_scaled = []\n",
    "for instance in numeric_validation_set:\n",
    "    scaled_instance = utils.scale_instance(copy.deepcopy(instance), scalation_parameters, use_standarization)\n",
    "    validation_set_scaled.append(scaled_instance)"
   ]
  },
  {
   "cell_type": "markdown",
   "metadata": {
    "collapsed": true
   },
   "source": [
    "### Búsqueda de mejores parametros iniciales\n",
    "Para aplicar regresión logística se requiere definir dos parámetros, uno es el weight y otro es el alpha.\n",
    "El vector de weight es el que se debe ajustar durante el algorimo de regresión logística y este es fundamental para clasificar las instancias. Partiendo de un buen weight inicial se acelera la convergencia. Con el vector weight se realiza un producto escalar con el vector transformado de las instancias, este resultado es aplicado a la funcion sigmoide para obtener la hipótesis de clasificación.\n",
    "Por el otro lado, el parámetro alpha se utiliza en el descenso por gradiente y representa el tamaño de intervalo en que una iteración de regresión logística se mueve en dirección del gradiente, con un alpha muy grande se corre el riesgo de no converger y con un alpha muy chico se puede tardar mucho en converger. Encontrar un alpha óptimo mejora el rendimiento del algoritmo.\n",
    "\n",
    "Para hayar los mejores valores se prueba el vector weight con los siguientes valores 10, 1, 0.1 y 0, y para alphas los valores 50, 10, 1 y 0.5. Alpha no puede ser \"0\" debido a que esto implica que el intervalo que avanza el algorimo es cero, lo que genera que no se actualizen los pesos weight.\n",
    "\n",
    "Para determinar cual es la mejor combinacion de valores se aplica regresión lógica a un conjunto de entrenamiento, la combinación que luego de 10 ajustes de weight logre el menor valor de la función costo es la que se usará en los siguientes bloques de código.\n",
    "\n",
    "Antes de realizar la busqueda de los parametros mencionados se debe normalizar los atributos de las instancias de lo contrario el algoritmo no funciona. Este comportamiento es debido a que si los atributos no estan normalizados, cuando se realiza el producto escalar entre el vector weight y la instancia, se da como resultado un número muy grande o muy chico, cuando se evalúa en la función sigmoide (para obtener ho(x)), dado a la representación de los números de una máquina se obtiene 0 o 1 en vez de un valor muy aproximado. Cuando se calcula la funcion Cost dependiendo del valor de atributo objetivo se realiza log(ho(x)) o log(1-ho(x)), lo que genera que se termine computando log(0) lo cual no existe. Al normalizar, el producto entre el vector weight y la instancia (wTx) no produce un resultado extremo y la funcion sigmoide no devuelve 0 o 1, pudiendo realizarse el algoritmo correctamente."
   ]
  },
  {
   "cell_type": "code",
   "execution_count": 11,
   "metadata": {},
   "outputs": [
    {
     "name": "stdout",
     "output_type": "stream",
     "text": [
      "Se realizan pruebas para obtiener los parametros con mejores resultados:\n",
      "╒════╤══════════╤═════════╤══════════════════╕\n",
      "│    │   Weight │   Alpha │   Costo obtenido │\n",
      "╞════╪══════════╪═════════╪══════════════════╡\n",
      "│  0 │     10   │    50   │      inf         │\n",
      "├────┼──────────┼─────────┼──────────────────┤\n",
      "│  1 │     10   │    10   │        1.92369   │\n",
      "├────┼──────────┼─────────┼──────────────────┤\n",
      "│  2 │     10   │     1   │      inf         │\n",
      "├────┼──────────┼─────────┼──────────────────┤\n",
      "│  3 │     10   │     0.5 │      inf         │\n",
      "├────┼──────────┼─────────┼──────────────────┤\n",
      "│  4 │      1   │    50   │        2.62243   │\n",
      "├────┼──────────┼─────────┼──────────────────┤\n",
      "│  5 │      1   │    10   │        0.0564473 │\n",
      "├────┼──────────┼─────────┼──────────────────┤\n",
      "│  6 │      1   │     1   │        0.197874  │\n",
      "├────┼──────────┼─────────┼──────────────────┤\n",
      "│  7 │      1   │     0.5 │        1.54976   │\n",
      "├────┼──────────┼─────────┼──────────────────┤\n",
      "│  8 │      0.1 │    50   │        0.161984  │\n",
      "├────┼──────────┼─────────┼──────────────────┤\n",
      "│  9 │      0.1 │    10   │        0.035509  │\n",
      "├────┼──────────┼─────────┼──────────────────┤\n",
      "│ 10 │      0.1 │     1   │        0.117975  │\n",
      "├────┼──────────┼─────────┼──────────────────┤\n",
      "│ 11 │      0.1 │     0.5 │        0.160459  │\n",
      "├────┼──────────┼─────────┼──────────────────┤\n",
      "│ 12 │      0   │    50   │        4.38318   │\n",
      "├────┼──────────┼─────────┼──────────────────┤\n",
      "│ 13 │      0   │    10   │        0.976764  │\n",
      "├────┼──────────┼─────────┼──────────────────┤\n",
      "│ 14 │      0   │     1   │        0.128262  │\n",
      "├────┼──────────┼─────────┼──────────────────┤\n",
      "│ 15 │      0   │     0.5 │        0.163167  │\n",
      "╘════╧══════════╧═════════╧══════════════════╛\n",
      "El menor costo conseguido fue:  0.03550902973690526  con Weight =  0.1  y alpha =  10\n",
      "A continuación se utilizarán los parametros obtenidos.\n",
      "\n"
     ]
    }
   ],
   "source": [
    "bestChoose = []\n",
    "posiblesWeight = [10, 1, 0.1, 0]\n",
    "posiblesAlpha = [50, 10, 1, 0.5]\n",
    "use_standarization = False\n",
    "\n",
    "\n",
    "# Se agrega 1 al inicio de los datos para\n",
    "# que el producto escalar tenga termino sesgo\n",
    "LR_numeric_attributes = copy.deepcopy(numeric_attributes)\n",
    "LR_numeric_attributes.insert(0,'sesgo')\n",
    "LR_training_set_scaled = copy.deepcopy(training_set_scaled)\n",
    "utils.insert_sesgo_one(LR_training_set_scaled)\n",
    "\n",
    "print(\"Se realizan pruebas para obtiener los parametros con mejores resultados:\")\n",
    "tablaParametros = []\n",
    "tablaParametros.append([\"Weight\", \"Alpha\", \"Costo obtenido\"])\n",
    "\n",
    "# Se inicializa el costo mínimo como inf (máximo float)\n",
    "minCost = float('inf')\n",
    "\n",
    "for w in range(4):\n",
    "    for a in range(4):\n",
    "        weight= []\n",
    "        \n",
    "        # Array de Weights para LR\n",
    "        for i in range(len(LR_numeric_attributes)):\n",
    "            weight += [posiblesWeight[w]]\n",
    "\n",
    "        # Constante alpha de LR\n",
    "        alpha = posiblesAlpha[a]\n",
    "\n",
    "        for i in range(10):\n",
    "            # Se ajusta Weight con decenso por gradiente 10 veces\n",
    "            weight = utils.descentByGradient(weight, LR_training_set_scaled, alpha, LR_numeric_attributes, target_attr)\n",
    "\n",
    "        cost = utils.costFunction(weight, LR_training_set_scaled, LR_numeric_attributes, target_attr)\n",
    "        tablaParametros.append([posiblesWeight[w], alpha, cost])\n",
    "\n",
    "        if (minCost > cost):\n",
    "            minCost = cost\n",
    "            bestChoose = [posiblesWeight[w], posiblesAlpha[a], cost]\n",
    "\n",
    "print(tabulate(tablaParametros, headers='firstrow', tablefmt='fancy_grid', stralign='right', showindex=True))\n",
    "print(\"El menor costo conseguido fue: \", bestChoose[2], \" con Weight = \", bestChoose[0], \" y alpha = \", bestChoose[1])\n",
    "print(\"A continuación se utilizarán los parametros obtenidos.\")\n",
    "print()\n"
   ]
  },
  {
   "cell_type": "markdown",
   "metadata": {
    "collapsed": true
   },
   "source": [
    "### Regresión lógica y comparación de resultado\n",
    "A continuacion se realizan 10 iteraciones de los algoritmos regresión lógica, KNN, Naive Bayes y ID3 entrenando con el 80% del conjunto de datos y validando con el 20% restante.\n",
    "En el caso de regresión lógica se utilizan los parametros encontrados en el segmento de codigo anterior.\n",
    "Finalmente se presenta la comparativa de promedio de errores de los cuatro algoritmos."
   ]
  },
  {
   "cell_type": "code",
   "execution_count": 13,
   "metadata": {},
   "outputs": [
    {
     "name": "stdout",
     "output_type": "stream",
     "text": [
      "Realizando iteración  1 :\n",
      "Realizando iteración  2 :\n",
      "Realizando iteración  3 :\n",
      "Realizando iteración  4 :\n",
      "Realizando iteración  5 :\n",
      "Realizando iteración  6 :\n",
      "Realizando iteración  7 :\n",
      "Realizando iteración  8 :\n",
      "╒════╤═══════════╤════════════╤════════════╤════════════╤════════════╤════════════╤════════════╤════════════╤════════════╕\n",
      "│    │           │     Iter 1 │     Iter 2 │     Iter 3 │     Iter 4 │     Iter 5 │     Iter 6 │     Iter 7 │     Iter 8 │\n",
      "╞════╪═══════════╪════════════╪════════════╪════════════╪════════════╪════════════╪════════════╪════════════╪════════════╡\n",
      "│  0 │  Ajuste 0 │ 0.648749   │ 0.647632   │ 0.650231   │ 0.636402   │ 0.647304   │ 0.636186   │ 0.64737    │ 0.629553   │\n",
      "├────┼───────────┼────────────┼────────────┼────────────┼────────────┼────────────┼────────────┼────────────┼────────────┤\n",
      "│  1 │  Ajuste 1 │ 6.74094    │ 6.81958    │ 6.75338    │ 6.89344    │ 6.76913    │ 6.95157    │ 6.7993     │ 7.06712    │\n",
      "├────┼───────────┼────────────┼────────────┼────────────┼────────────┼────────────┼────────────┼────────────┼────────────┤\n",
      "│  2 │  Ajuste 2 │ 2.72899    │ 2.73753    │ 2.76843    │ 2.31701    │ 2.65215    │ 2.42738    │ 2.71313    │ 2.25997    │\n",
      "├────┼───────────┼────────────┼────────────┼────────────┼────────────┼────────────┼────────────┼────────────┼────────────┤\n",
      "│  3 │  Ajuste 3 │ 0.0386312  │ 0.0462652  │ 0.0412891  │ 0.159109   │ 0.0590412  │ 0.136267   │ 0.0510728  │ 0.282446   │\n",
      "├────┼───────────┼────────────┼────────────┼────────────┼────────────┼────────────┼────────────┼────────────┼────────────┤\n",
      "│  4 │  Ajuste 4 │ 0.0328216  │ 0.0365535  │ 0.0339441  │ 0.058215   │ 0.0441516  │ 0.0555033  │ 0.0388492  │ 0.176234   │\n",
      "├────┼───────────┼────────────┼────────────┼────────────┼────────────┼────────────┼────────────┼────────────┼────────────┤\n",
      "│  5 │  Ajuste 5 │ 0.0280247  │ 0.02946    │ 0.0279424  │ 0.0334738  │ 0.0350919  │ 0.03489    │ 0.0307209  │ 0.0685579  │\n",
      "├────┼───────────┼────────────┼────────────┼────────────┼────────────┼────────────┼────────────┼────────────┼────────────┤\n",
      "│  6 │  Ajuste 6 │ 0.0240176  │ 0.0240141  │ 0.0230628  │ 0.0262205  │ 0.0283876  │ 0.0250793  │ 0.0245889  │ 0.0384333  │\n",
      "├────┼───────────┼────────────┼────────────┼────────────┼────────────┼────────────┼────────────┼────────────┼────────────┤\n",
      "│  7 │  Ajuste 7 │ 0.0206509  │ 0.0198206  │ 0.0191401  │ 0.0215771  │ 0.0231136  │ 0.0196443  │ 0.0199424  │ 0.0267423  │\n",
      "├────┼───────────┼────────────┼────────────┼────────────┼────────────┼────────────┼────────────┼────────────┼────────────┤\n",
      "│  8 │  Ajuste 8 │ 0.0178185  │ 0.0165446  │ 0.0160341  │ 0.0179705  │ 0.0189665  │ 0.0158507  │ 0.0164148  │ 0.0210269  │\n",
      "├────┼───────────┼────────────┼────────────┼────────────┼────────────┼────────────┼────────────┼────────────┼────────────┤\n",
      "│  9 │  Ajuste 9 │ 0.0154461  │ 0.0140135  │ 0.0136104  │ 0.0150837  │ 0.0157541  │ 0.0131721  │ 0.013784   │ 0.017534   │\n",
      "├────┼───────────┼────────────┼────────────┼────────────┼────────────┼────────────┼────────────┼────────────┼────────────┤\n",
      "│ 10 │ Ajuste 10 │ 0.0134769  │ 0.0120647  │ 0.0117381  │ 0.0127976  │ 0.0133146  │ 0.0112001  │ 0.0118278  │ 0.0149838  │\n",
      "├────┼───────────┼────────────┼────────────┼────────────┼────────────┼────────────┼────────────┼────────────┼────────────┤\n",
      "│ 11 │ Ajuste 11 │ 0.0118607  │ 0.0105724  │ 0.0102957  │ 0.0110084  │ 0.0114755  │ 0.00973939 │ 0.010374   │ 0.0130075  │\n",
      "├────┼───────────┼────────────┼────────────┼────────────┼────────────┼────────────┼────────────┼────────────┼────────────┤\n",
      "│ 12 │ Ajuste 12 │ 0.0105478  │ 0.00942792 │ 0.00917999 │ 0.00961524 │ 0.0100854  │ 0.00864094 │ 0.0092789  │ 0.011422   │\n",
      "├────┼───────────┼────────────┼────────────┼────────────┼────────────┼────────────┼────────────┼────────────┼────────────┤\n",
      "│ 13 │ Ajuste 13 │ 0.00948844 │ 0.00854291 │ 0.00830929 │ 0.00852801 │ 0.00902353 │ 0.00780306 │ 0.00844165 │ 0.0101446  │\n",
      "├────┼───────────┼────────────┼────────────┼────────────┼────────────┼────────────┼────────────┼────────────┼────────────┤\n",
      "│ 14 │ Ajuste 14 │ 0.00863514 │ 0.00784924 │ 0.00762165 │ 0.00767306 │ 0.0081994  │ 0.00715291 │ 0.0077877  │ 0.00911587 │\n",
      "╘════╧═══════════╧════════════╧════════════╧════════════╧════════════╧════════════╧════════════╧════════════╧════════════╛\n",
      "\n",
      "╒════╤══════════════════╤══════════╤══════════╤══════════╤══════════╤══════════╤══════════╤══════════╤══════════╤════════════╕\n",
      "│    │                  │   Iter 1 │   Iter 2 │   Iter 3 │   Iter 4 │   Iter 5 │   Iter 6 │   Iter 7 │   Iter 8 │   Promedio │\n",
      "╞════╪══════════════════╪══════════╪══════════╪══════════╪══════════╪══════════╪══════════╪══════════╪══════════╪════════════╡\n",
      "│  0 │ Regresión lógica │        2 │        1 │        0 │        0 │        0 │        3 │        0 │        3 │      1.125 │\n",
      "├────┼──────────────────┼──────────┼──────────┼──────────┼──────────┼──────────┼──────────┼──────────┼──────────┼────────────┤\n",
      "│  1 │              KNN │        8 │        4 │        4 │        7 │        6 │       11 │        3 │        5 │      6     │\n",
      "├────┼──────────────────┼──────────┼──────────┼──────────┼──────────┼──────────┼──────────┼──────────┼──────────┼────────────┤\n",
      "│  2 │      Naive Bayes │       12 │       10 │        8 │       10 │       10 │       12 │        8 │        8 │      9.75  │\n",
      "├────┼──────────────────┼──────────┼──────────┼──────────┼──────────┼──────────┼──────────┼──────────┼──────────┼────────────┤\n",
      "│  3 │              ID3 │       27 │       22 │       29 │       28 │       27 │       32 │       18 │       24 │     25.875 │\n",
      "╘════╧══════════════════╧══════════╧══════════╧══════════╧══════════╧══════════╧══════════╧══════════╧══════════╧════════════╛\n"
     ]
    }
   ],
   "source": [
    "errors_LR_total = 0\n",
    "errors_KNN_total = 0\n",
    "errors_NB_total = 0\n",
    "errors_ID3_total = 0\n",
    "\n",
    "tablaIteraciones = []\n",
    "tablaErroresIteraciones = []\n",
    "\n",
    "tablaIteraciones.append(['','',\"Iter 1\",\"Iter 2\",\"Iter 3\",\"Iter 4\",\"Iter 5\",\"Iter 6\",\"Iter 7\",\"Iter 8\"])\n",
    "tablaErroresIteraciones.append(['','',\"Iter 1\",\"Iter 2\",\"Iter 3\",\"Iter 4\",\"Iter 5\",\"Iter 6\",\"Iter 7\",\"Iter 8\",\"Promedio\"])\n",
    "\n",
    "for iter in range(8):\n",
    "    print('Realizando iteración ',iter +1, ':')\n",
    "    #######################################################################################\n",
    "    #######################       Regresión Logica           ##############################\n",
    "    #######################################################################################\n",
    "    \n",
    "    # Se divide el conjunto de datos\n",
    "    numeric_validation_set, numeric_training_set = utils.split_20_80(numeric_data)\n",
    "\n",
    "\n",
    "    use_standarization = False\n",
    "    # Normalizamos el training set utilizando la tecnica min-max\n",
    "    training_set_scaled, scalation_parameters = utils.scale(copy.deepcopy(numeric_training_set), numeric_attributes,use_standarization)\n",
    "\n",
    "\n",
    "    # Normalizamos el validation set utilizando la tecnica min-max y\n",
    "    # los valores que usamos para normalizar el training\n",
    "    validation_set_scaled = []\n",
    "    for instance in numeric_validation_set:\n",
    "        scaled_instance = utils.scale_instance(copy.deepcopy(instance), scalation_parameters, use_standarization)\n",
    "        validation_set_scaled.append(scaled_instance)\n",
    "\n",
    "\n",
    "    # Se agrega 1 al inicio de los datos para\n",
    "    # que el producto escalar tenga termino sesgo\n",
    "    LR_numeric_attributes = copy.deepcopy(numeric_attributes)\n",
    "    LR_numeric_attributes.insert(0,'sesgo')\n",
    "    LR_training_set_scaled = copy.deepcopy(training_set_scaled)\n",
    "    LR_validation_set_scaled = copy.deepcopy(validation_set_scaled)\n",
    "    utils.insert_sesgo_one(LR_training_set_scaled)\n",
    "    utils.insert_sesgo_one(LR_validation_set_scaled)\n",
    "\n",
    "    # Weights para LR\n",
    "    weight = []\n",
    "    for i in range(len(LR_numeric_attributes)):\n",
    "        weight += [bestChoose[0]]\n",
    "\n",
    "    # Constante alpha de LR\n",
    "    alpha = bestChoose[1]\n",
    "\n",
    "    # Costo anterior\n",
    "    cost = float('inf')\n",
    "\n",
    "    # La condición de parado son 15 iteraciones o una \n",
    "    # diferencia de costos menor a 0.0001\n",
    "    for i in range(15):\n",
    "        newCost = utils.costFunction(weight, LR_training_set_scaled, LR_numeric_attributes, target_attr)\n",
    "        dif =abs(cost - newCost)\n",
    "        \n",
    "        if (iter == 0):\n",
    "            row = 'Ajuste ' + repr(i)\n",
    "            tablaIteraciones.append([row])\n",
    "\n",
    "        tablaIteraciones[i+1].append(newCost)\n",
    "        \n",
    "        if (abs(cost - newCost) < 0.0001):\n",
    "            break\n",
    "        cost = newCost\n",
    "        weight = utils.descentByGradient(weight, LR_training_set_scaled, alpha, LR_numeric_attributes, target_attr)\n",
    "    \n",
    "    \n",
    "    # LR holdout validation\n",
    "    errors_LR = utils.LR_holdout_validation(LR_validation_set_scaled, target_attr, weight, LR_numeric_attributes)\n",
    "    errors_LR_total += errors_LR\n",
    "\n",
    "\n",
    "    #######################################################################################\n",
    "    #######################               KNN                ##############################\n",
    "    #######################################################################################\n",
    "    \n",
    "    # KNN holdout validation con k = 3 y usando pesos\n",
    "    errors_KNN = utils.KNN_holdout_validation(copy.deepcopy(training_set_scaled), copy.deepcopy(validation_set_scaled), target_attr, numeric_attributes, 3, True)\n",
    "    errors_KNN_total += errors_KNN[1]\n",
    "\n",
    "    \n",
    "    #######################################################################################\n",
    "    #######################         Naive Bayes              ##############################\n",
    "    #######################################################################################\n",
    "    \n",
    "    nb_classifier = NaiveBayes(copy.deepcopy(training_set_scaled), numeric_attributes, target_attr)\n",
    "    errors_NB = nb_classifier.holdout_validation(copy.deepcopy(validation_set_scaled), target_attr)\n",
    "    errors_NB_total += errors_NB[1]\n",
    "\n",
    "    \n",
    "    #######################################################################################\n",
    "    #######################            ID3                   ##############################\n",
    "    #######################################################################################\n",
    "    \n",
    "    tree = id3.ID3_algorithm(training_set_scaled, numeric_attributes, target_attr, True, False)\n",
    "    errors_ID3 = id3.validation(tree, validation_set_scaled, target_attr)\n",
    "    errors_ID3_total += errors_ID3\n",
    "\n",
    "    if (iter == 0):\n",
    "        tablaErroresIteraciones.append(['Regresión lógica'])\n",
    "        tablaErroresIteraciones.append(['KNN'])\n",
    "        tablaErroresIteraciones.append(['Naive Bayes'])\n",
    "        tablaErroresIteraciones.append(['ID3'])\n",
    "\n",
    "    tablaErroresIteraciones[1].append(errors_LR)\n",
    "    tablaErroresIteraciones[2].append(errors_KNN[1])\n",
    "    tablaErroresIteraciones[3].append(errors_NB[1])\n",
    "    tablaErroresIteraciones[4].append(errors_ID3)\n",
    "\n",
    "tablaErroresIteraciones[1].append(errors_LR_total/8)\n",
    "tablaErroresIteraciones[2].append(errors_KNN_total/8)\n",
    "tablaErroresIteraciones[3].append(errors_NB_total/8)\n",
    "tablaErroresIteraciones[4].append(errors_ID3_total/8)\n",
    "\n",
    "print(tabulate(tablaIteraciones, headers='firstrow', tablefmt='fancy_grid', stralign='right', showindex=True))\n",
    "print()\n",
    "print(tabulate(tablaErroresIteraciones, headers='firstrow', tablefmt='fancy_grid', stralign='right', showindex=True))"
   ]
  },
  {
   "cell_type": "code",
   "execution_count": null,
   "metadata": {
    "collapsed": true
   },
   "outputs": [],
   "source": []
  }
 ],
 "metadata": {
  "kernelspec": {
   "display_name": "Python 3",
   "language": "python",
   "name": "python3"
  },
  "language_info": {
   "codemirror_mode": {
    "name": "ipython",
    "version": 3
   },
   "file_extension": ".py",
   "mimetype": "text/x-python",
   "name": "python",
   "nbconvert_exporter": "python",
   "pygments_lexer": "ipython3",
   "version": "3.6.4"
  }
 },
 "nbformat": 4,
 "nbformat_minor": 2
}
