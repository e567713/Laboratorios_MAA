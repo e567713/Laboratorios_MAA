{
 "cells": [
  {
   "cell_type": "markdown",
   "metadata": {},
   "source": [
    "# _Redes neuronales artificiales_"
   ]
  },
  {
   "cell_type": "markdown",
   "metadata": {},
   "source": [
    "### Importaciones"
   ]
  },
  {
   "cell_type": "code",
   "execution_count": 7,
   "metadata": {
    "collapsed": true
   },
   "outputs": [],
   "source": [
    "import random\n",
    "from math import e "
   ]
  },
  {
   "cell_type": "markdown",
   "metadata": {},
   "source": [
    "### Visión general de la implemetación\n",
    "Se definen las clases **Neuron** y **ANN** las cuales representarán de forma general a las neuronas y a la red neuronal a entrenear. <br>\n",
    "Dados estos modelos, un objeto de tipo ANN contendrá varios objetos de tipo Neuron."
   ]
  },
  {
   "cell_type": "markdown",
   "metadata": {},
   "source": [
    "### Clase Neuron\n",
    "***\n",
    "#### Métodos\n",
    "- **init(n_inputs)**: Inicializa n_inputs pesos de la neurona con valores entre -0.5 y 0.5 de forma aleatoria.\n",
    "- **compute_input(inputs)**: Calcula la combinación lineal entre los pesos y los valores de las inputs.\n",
    "- **apply_sigmoid(computed_value)**: Aplica la función de sigmoide a computed_value.\n",
    "\n",
    "#### Observaciones\n",
    "- Se asume que el valor $w_{0}$ es el último en la lista de pesos para mayor facilidad a la hora de implemetación.\n"
   ]
  },
  {
   "cell_type": "code",
   "execution_count": 8,
   "metadata": {
    "collapsed": true
   },
   "outputs": [],
   "source": [
    "class Neuron:\n",
    "    def __init__(self, n_inputs):\n",
    "        self.weights = [round(random.uniform(-0.5,0.5),5) for i in range(n_inputs)]\n",
    "\n",
    "#     def create(self, n_inputs):\n",
    "#         self.weights = [round(random.uniform(-0.5,0.5),5) for i in range(n_inputs)]\n",
    "        \n",
    "    def compute_input(self, inputs):\n",
    "        result = self.weights[-1]\n",
    "        for i in range(len(self.weights)-1):\n",
    "            result += self.weights[i] * inputs[i]\n",
    "        return result\n",
    "    \n",
    "    def apply_sigmoid(self, computed_value):\n",
    "        return 1 / (1 + e**(-computed_value))\n",
    "    "
   ]
  },
  {
   "cell_type": "markdown",
   "metadata": {},
   "source": [
    "### Clase ANN\n",
    "***\n",
    "#### Métodos\n",
    "- **init(n_inputs, n_hidden, n_outputs)**: Inicializa las neuronas de la capa oculta y la capa de salida. Para la capa oculta se crean n_hidden neuronas cada una de las cuales tiene (n_inputs + 1) pesos, uno por cada columna en el conjunto de datos más el adicional por el peso $w_{0}$. Adicionalmente se crean n_outputs neuronas para la capa de salida, cada una con (n_hidden + 1) pesos. Esto significa que cada neurona en la capa de salida se conecta con cada neurona de la capa oculta.\n",
    "- **forward_propagate(instance)**: Recibe en instance una instancia a clasificar, procesa la misma con cada neurona de la capa oculta, luego cada salida generada por las neuronas de la capa oculta son procesadas por cada una de las neuronas de la capa de salida, devolviendo finalmente el resultado de la clasificación.\n",
    "\n",
    "#### Observaciones\n",
    "- asdasd $w_{0}$ asdasd."
   ]
  },
  {
   "cell_type": "code",
   "execution_count": 1,
   "metadata": {
    "collapsed": true
   },
   "outputs": [],
   "source": [
    "class ANN:\n",
    "    def __init__(self, n_inputs, n_hidden, n_outputs):\n",
    "        self.hidden_layer = [Neuron(n_inputs + 1) for i in range(n_hidden)]\n",
    "        self.output_layer = [Neuron(n_hidden + 1) for i in range(n_outputs)]\n",
    "        \n",
    "    def forward_propagate(self, instance):\n",
    "        \n",
    "        inputs = instance\n",
    "        hidden_layer_outputs = []\n",
    "        for neuron in self.hidden_layer:\n",
    "            computed_input = neuron.compute_input(inputs)\n",
    "            neuron_output = neuron.apply_sigmoid(computed_input)\n",
    "            hidden_layer_outputs.append(neuron_output)\n",
    "            \n",
    "        inputs = hidden_layer_outputs\n",
    "        final_outputs = []\n",
    "        for neuron in self.output_layer:\n",
    "            computed_input = neuron.compute_input(inputs)\n",
    "            neuron_output = neuron.apply_sigmoid(computed_input)\n",
    "            final_outputs.append(neuron_output)\n",
    "        \n",
    "        return final_outputs"
   ]
  }
 ],
 "metadata": {
  "kernelspec": {
   "display_name": "Python 3",
   "language": "python",
   "name": "python3"
  },
  "language_info": {
   "codemirror_mode": {
    "name": "ipython",
    "version": 3
   },
   "file_extension": ".py",
   "mimetype": "text/x-python",
   "name": "python",
   "nbconvert_exporter": "python",
   "pygments_lexer": "ipython3",
   "version": "3.6.2"
  }
 },
 "nbformat": 4,
 "nbformat_minor": 2
}
