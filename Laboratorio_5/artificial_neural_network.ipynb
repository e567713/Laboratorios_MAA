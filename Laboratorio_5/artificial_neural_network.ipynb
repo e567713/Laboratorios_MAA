{
 "cells": [
  {
   "cell_type": "markdown",
   "metadata": {},
   "source": [
    "# _Redes neuronales artificiales_"
   ]
  },
  {
   "cell_type": "markdown",
   "metadata": {},
   "source": [
    "### Importaciones"
   ]
  },
  {
   "cell_type": "code",
   "execution_count": 44,
   "metadata": {
    "collapsed": true
   },
   "outputs": [],
   "source": [
    "import random\n",
    "import numpy as np\n",
    "from math import e "
   ]
  },
  {
   "cell_type": "markdown",
   "metadata": {},
   "source": [
    "### Visión general de la implemetación\n",
    "Se definen las clases **Neuron** y **ANN** las cuales representan de forma general a las neuronas y a la red neuronal a entrenear respectivamente. <br>\n",
    "Dados estos modelos, un objeto de tipo ANN se asocia a varios objetos de tipo Neuron. <br>\n",
    "Dicha asociación se da a través de dos listas de neuronas que contiene la clase ANN, una lista representando a la capa oculta y la restante a la capa de salida. <br>\n",
    "Adicionalmente el objeto ANN recibe como parámetro el número de neuronas que debe implementar en cada capa. <br>\n",
    "Dada esta arquitectura, solo es posible construir redes con una única capa oculta pero con capas de distinto tamaño. "
   ]
  },
  {
   "cell_type": "markdown",
   "metadata": {},
   "source": [
    "### Clase Neuron\n",
    "***\n",
    "#### Métodos\n",
    "- **init(n_inputs)**: Inicializa n_inputs pesos de la neurona con valores entre -0.5 y 0.5 de forma aleatoria.\n",
    "- **compute_input(inputs)**: Calcula la combinación lineal entre los pesos y los valores de las inputs.\n",
    "- **apply_sigmoid(computed_value)**: Aplica la función de sigmoide a computed_value y almacena el valor de salida.\n",
    "- **calculate_output_neuron_error(expected)**: Aplica la formula de error para una neurona de la capa de salida y almacena el resultado. \n",
    "- **calculate_hidden_neuron_error(output_layer, index)**: Aplica la formula de error para una neurona de la capa de oculta y almacena el resultado.\n",
    "- **update_weights(rate, inputs)**: Actualiza todos los pesos de la neurona incluyendo el peso $w_{0}$ para el cual se asume una entrada de valor 1.\n",
    "\n",
    "#### Observaciones\n",
    "- Se asume que el valor $w_{0}$ es el último en la lista de pesos para mayor facilidad a la hora de implemetación.\n"
   ]
  },
  {
   "cell_type": "code",
   "execution_count": 33,
   "metadata": {
    "collapsed": true
   },
   "outputs": [],
   "source": [
    "class Neuron:\n",
    "    def __init__(self, n_inputs):\n",
    "        self.weights = [round(random.uniform(-0.5,0.5),5) for i in range(n_inputs)]\n",
    "        self.output = Null\n",
    "        self.error = Null\n",
    "\n",
    "    def compute_input(self, inputs):\n",
    "        result = self.weights[-1]\n",
    "        for i in range(len(self.weights)-1):\n",
    "            result += self.weights[i] * inputs[i]\n",
    "        return result\n",
    "    \n",
    "    def apply_sigmoid(self, computed_value):\n",
    "        self.output = 1 / (1 + e**(-computed_value)) \n",
    "        return self.output\n",
    "    \n",
    "    def calculate_output_neuron_error(self, expected):\n",
    "        self.error = self.output * (1.0 - self.output) * (expected - self.output) \n",
    "        return  self.error\n",
    "    \n",
    "    def calculate_hidden_neuron_error(self, output_layer, index):\n",
    "        self.error = 0.00000\n",
    "        for neuron in output_layer:\n",
    "            self.error += neuron.error * neuron.weights[index]\n",
    "        self.error *= self.output * (1.0 - self.output)\n",
    "        return self.error\n",
    "    \n",
    "    def update_weights(self, rate, inputs):\n",
    "        for i in range(len(self.inputs)):\n",
    "            self.weights[i] += rate * self.error * inputs[i]\n",
    "        self.weights[-1] += rate * self.error  \n",
    "    "
   ]
  },
  {
   "cell_type": "markdown",
   "metadata": {},
   "source": [
    "### Clase ANN\n",
    "***\n",
    "#### Métodos\n",
    "- **init(n_inputs, n_hidden, n_outputs)**: Inicializa las neuronas de la capa oculta y la capa de salida. Para la capa oculta se crean n_hidden neuronas cada una de las cuales tiene (n_inputs + 1) pesos, uno por cada columna en el conjunto de datos más el adicional por el peso $w_{0}$. Adicionalmente se crean n_outputs neuronas para la capa de salida, cada una con (n_hidden + 1) pesos. Esto significa que cada neurona en la capa de salida se conecta con cada neurona de la capa oculta.\n",
    "- **forward_propagate(instance)**: Recibe en instance una instancia a clasificar, procesa la misma con cada neurona de la capa oculta, luego cada salida generada por las neuronas de la capa oculta son procesadas por cada una de las neuronas de la capa de salida, devolviendo finalmente el resultado de la clasificación.\n",
    "- **update_weights(instance)**: Actualiza todos los pesos presentes en la red. Recibe la última instancia procesada como parámetro ya que son las inputs necesarias para actualizar pesos de la capa oculta."
   ]
  },
  {
   "cell_type": "code",
   "execution_count": 11,
   "metadata": {
    "collapsed": true
   },
   "outputs": [],
   "source": [
    "class ANN:\n",
    "    def __init__(self, n_inputs, n_hidden, n_outputs):\n",
    "        self.hidden_layer = [Neuron(n_inputs + 1) for i in range(n_hidden)]\n",
    "        self.output_layer = [Neuron(n_hidden + 1) for i in range(n_outputs)]\n",
    "\n",
    "    def forward_propagate(self, instance):\n",
    "        \n",
    "        inputs = instance\n",
    "        hidden_layer_outputs = []\n",
    "        for neuron in self.hidden_layer:\n",
    "            computed_input = neuron.compute_input(inputs)\n",
    "            neuron_output = neuron.apply_sigmoid(computed_input)\n",
    "            hidden_layer_outputs.append(neuron_output)\n",
    "        \n",
    "        inputs = hidden_layer_outputs\n",
    "        final_outputs = []\n",
    "        for neuron in self.output_layer:\n",
    "            computed_input = neuron.compute_input(inputs)\n",
    "            neuron_output = neuron.apply_sigmoid(computed_input)\n",
    "            final_outputs.append(neuron_output)\n",
    "        \n",
    "        return final_outputs\n",
    "    \n",
    "    def update_weights(self, instance):\n",
    "        \n",
    "        output_layer_inputs = []\n",
    "        for neuron in self.hidden_layer:\n",
    "            neuron.update_weights(rate, instance)\n",
    "            output_layer_inputs.append(neuron.output)\n",
    "        \n",
    "        for neuron in self.output_layer:\n",
    "            neuron.update_weights(rate, output_layer_inputs)"
   ]
  },
  {
   "cell_type": "markdown",
   "metadata": {},
   "source": [
    "### Parte a) <br>\n",
    "### Algoritmo Backpropagation"
   ]
  },
  {
   "cell_type": "code",
   "execution_count": 39,
   "metadata": {
    "collapsed": true
   },
   "outputs": [],
   "source": [
    "def backpropagation(n_inputs, n_hidden, n_outputs, max_iter, data_set):\n",
    "    \n",
    "    # Crea la red neuronal artificial.     \n",
    "    neural_network = ANN(n_inputs, n_hidden, n_outputs)\n",
    "    \n",
    "    for iter in range (max_iter):\n",
    "        \n",
    "        # Se recorre el conjunto de entrenamiento.         \n",
    "        for (instance, expected) in data_set:\n",
    "            \n",
    "            # Se clasifica la instancia.             \n",
    "            output = ANN.forward_propagate(instance)\n",
    "            \n",
    "            # Se recorren las neuronas de la capa de salida.             \n",
    "            for index, neuron in enumerate(ANN.output_layer):\n",
    "                # Se calcula y almacena el error para cada neurona.               \n",
    "                neuron.calculate_output_neuron_error(expected[index])\n",
    "                                     \n",
    "            # Se recorren las neuronas de la capa oculta.\n",
    "            for index, neuron in enumerate(ANN.hidden_layer):\n",
    "                # Se calcula y almacena el error para cada neurona.               \n",
    "                neuron.calculate_hidden_neuron_error(ANN.output_layer, index)\n",
    "\n",
    "            # Se actualizan todos los pesos de la red.\n",
    "            ANN.update_weights(instance)"
   ]
  },
  {
   "cell_type": "markdown",
   "metadata": {},
   "source": [
    "### Parte b)\n",
    "\n",
    "Se definen las funciones de la letra a utilizar:"
   ]
  },
  {
   "cell_type": "code",
   "execution_count": 47,
   "metadata": {},
   "outputs": [
    {
     "data": {
      "text/plain": [
       "[(-0.31805161914659008, 0.86667007321238798),\n",
       " (0.63734625121932464, 0.85268633224084001),\n",
       " (0.42814722694433538, 0.8951736407564731),\n",
       " (-0.30483303974794507, 0.87875076180873501),\n",
       " (0.039575142490400061, 0.99849579036459846),\n",
       " (0.35006468492449883, 0.92035349247208176),\n",
       " (-0.78947433874386519, -0.11532519069777347),\n",
       " (0.48634681109475419, 0.87850395692491678),\n",
       " (0.51094416881206572, 0.87232515604844685),\n",
       " (0.51497011976895735, 0.87137287717170375),\n",
       " (0.46684190569445461, 0.88380279721293931),\n",
       " (-0.65909583623306522, 0.27927662193603919),\n",
       " (0.88084179062240264, 0.90754725919782087),\n",
       " (-0.7338820852635568, 0.066160732129739608),\n",
       " (-0.23190101291515219, 0.93375072903274459),\n",
       " (0.1858114671486959, 0.9718894070556835),\n",
       " (0.84036984918460833, 0.88726575809282537),\n",
       " (0.16473894915655318, 0.97733191601839986),\n",
       " (-0.25301809527689945, 0.91978409143218054),\n",
       " (-0.50584392337687745, 0.61468755591097635),\n",
       " (-0.35718371690653372, 0.82685021961428318),\n",
       " (0.31022132531577262, 0.93361758297465713),\n",
       " (-0.49705732253402957, 0.63012806267045252),\n",
       " (0.098640843198051664, 0.99122976103050242),\n",
       " (-0.65932394718069709, 0.2786784938534379),\n",
       " (-0.069080234091973391, 0.9948982649411815),\n",
       " (-0.15472861257830672, 0.97235470747022212),\n",
       " (-0.58894276891181607, 0.44886950415807503),\n",
       " (-0.32985448073885637, 0.85530654171809972),\n",
       " (-0.306013865074795, 0.87769900339507534),\n",
       " (0.044523515098161326, 0.99810591749945632),\n",
       " (0.5575420486833691, 0.86246055826294565),\n",
       " (-0.90045166264893828, -0.54091128789399701),\n",
       " (-0.73813975179823621, 0.052974046636641958),\n",
       " (-0.75075935159385887, 0.013202692358481372),\n",
       " (-0.33327828591786979, 0.85190689320704638),\n",
       " (-0.00030797861478482069, 0.99999990511996084),\n",
       " (0.74443489650762507, 0.85837008371292822),\n",
       " (-0.63226892544840707, 0.3474776549375338),\n",
       " (-0.62273496256663718, 0.3707052742700595)]"
      ]
     },
     "execution_count": 47,
     "metadata": {},
     "output_type": "execute_result"
    }
   ],
   "source": [
    "def f(x):\n",
    "    return x*x*x - x*x + 1\n",
    "\n",
    "def g(x,y):\n",
    "    return 1 - x*2 - y*2\n",
    "    \n",
    "def h(x,y):\n",
    "    return x + y\n",
    "\n",
    "[(x,f(x))for x in np.random.uniform(-1,1,40)]\n"
   ]
  },
  {
   "cell_type": "code",
   "execution_count": null,
   "metadata": {
    "collapsed": true
   },
   "outputs": [],
   "source": []
  }
 ],
 "metadata": {
  "kernelspec": {
   "display_name": "Python 3",
   "language": "python",
   "name": "python3"
  },
  "language_info": {
   "codemirror_mode": {
    "name": "ipython",
    "version": 3
   },
   "file_extension": ".py",
   "mimetype": "text/x-python",
   "name": "python",
   "nbconvert_exporter": "python",
   "pygments_lexer": "ipython3",
   "version": "3.6.1"
  }
 },
 "nbformat": 4,
 "nbformat_minor": 2
}
