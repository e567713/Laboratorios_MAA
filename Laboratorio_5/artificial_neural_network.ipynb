{
 "cells": [
  {
   "cell_type": "markdown",
   "metadata": {},
   "source": [
    "# _Redes neuronales artificiales_"
   ]
  },
  {
   "cell_type": "markdown",
   "metadata": {},
   "source": [
    "### Importaciones"
   ]
  },
  {
   "cell_type": "code",
   "execution_count": 262,
   "metadata": {
    "collapsed": true
   },
   "outputs": [],
   "source": [
    "import random\n",
    "import numpy as np\n",
    "import copy\n",
    "import utils\n",
    "from math import e "
   ]
  },
  {
   "cell_type": "markdown",
   "metadata": {},
   "source": [
    "### Visión general de la implemetación\n",
    "Se definen las clases **Neuron** y **ANN** las cuales representan de forma general a las neuronas y a la red neuronal a entrenear respectivamente. <br>\n",
    "Dados estos modelos, un objeto de tipo ANN se asocia a varios objetos de tipo Neuron. <br>\n",
    "Dicha asociación se da a través de dos listas de neuronas que contiene la clase ANN, una lista representando a la capa oculta y la restante a la capa de salida. <br>\n",
    "Adicionalmente el objeto ANN recibe como parámetro el número de neuronas que debe implementar en cada capa. <br>\n",
    "Dada esta arquitectura, solo es posible construir redes con una única capa oculta pero con capas de distinto tamaño. "
   ]
  },
  {
   "cell_type": "markdown",
   "metadata": {},
   "source": [
    "### Clase Neuron\n",
    "***\n",
    "#### Métodos\n",
    "- **init(n_inputs)**: Inicializa n_inputs pesos de la neurona con valores entre -0.5 y 0.5 de forma aleatoria.\n",
    "- **compute_input(inputs)**: Calcula la combinación lineal entre los pesos y los valores de las inputs.\n",
    "- **apply_sigmoid(computed_value)**: Aplica la función de sigmoide a computed_value y almacena el valor de salida.\n",
    "- **calculate_output_neuron_error(expected)**: Aplica la formula de error para una neurona de la capa de salida y almacena el resultado. \n",
    "- **calculate_hidden_neuron_error(output_layer, index)**: Aplica la formula de error para una neurona de la capa de oculta y almacena el resultado.\n",
    "- **update_weights(rate, inputs)**: Actualiza todos los pesos de la neurona incluyendo el peso $w_{0}$ para el cual se asume una entrada de valor 1.\n",
    "\n",
    "#### Observaciones\n",
    "- Se asume que el valor $w_{0}$ es el último en la lista de pesos para mayor facilidad a la hora de implemetación.\n"
   ]
  },
  {
   "cell_type": "code",
   "execution_count": 263,
   "metadata": {
    "collapsed": true
   },
   "outputs": [],
   "source": [
    "class Neuron:\n",
    "    def __init__(self, n_inputs):\n",
    "        self.weights = [round(random.uniform(-0.5,0.5),5) for i in range(n_inputs)]\n",
    "        self.output = None\n",
    "        self.error = None\n",
    "\n",
    "    def compute_input(self, inputs):\n",
    "        result = self.weights[-1]\n",
    "        for i in range(len(self.weights)-1):\n",
    "            result += self.weights[i] * inputs[i]\n",
    "        self.output = result     \n",
    "        return result\n",
    "    \n",
    "    def apply_sigmoid(self, computed_value):\n",
    "        self.output = 1 / (1 + e**(-computed_value)) \n",
    "        return self.output\n",
    "    \n",
    "    def calculate_output_neuron_error(self, expected):\n",
    "#         self.error = self.output * (1.0 - self.output) * (expected - self.output) \n",
    "        self.error = expected - self.output\n",
    "        return  self.error\n",
    "    \n",
    "    def calculate_hidden_neuron_error(self, output_layer, index):\n",
    "        self.error = 0.00000\n",
    "        for neuron in output_layer:\n",
    "            self.error += neuron.error * neuron.weights[index]\n",
    "        self.error *= self.output * (1.0 - self.output)\n",
    "        return self.error\n",
    "    \n",
    "    def update_weights(self, rate, inputs):\n",
    "        for i in range(len(inputs)):\n",
    "            self.weights[i] += rate * self.error * inputs[i]\n",
    "        self.weights[-1] += rate * self.error  \n",
    "    "
   ]
  },
  {
   "cell_type": "markdown",
   "metadata": {},
   "source": [
    "### Clase ANN\n",
    "***\n",
    "#### Métodos\n",
    "- **init(n_inputs, n_hidden, n_outputs)**: Inicializa las neuronas de la capa oculta y la capa de salida. Para la capa oculta se crean n_hidden neuronas cada una de las cuales tiene (n_inputs + 1) pesos, uno por cada columna en el conjunto de datos más el adicional por el peso $w_{0}$. Adicionalmente se crean n_outputs neuronas para la capa de salida, cada una con (n_hidden + 1) pesos. Esto significa que cada neurona en la capa de salida se conecta con cada neurona de la capa oculta.\n",
    "- **forward_propagate(instance)**: Recibe en instance una instancia a clasificar, procesa la misma con cada neurona de la capa oculta, luego cada salida generada por las neuronas de la capa oculta son procesadas por cada una de las neuronas de la capa de salida, devolviendo finalmente el resultado de la clasificación.\n",
    "- **update_weights(instance)**: Actualiza todos los pesos presentes en la red. Recibe la última instancia procesada como parámetro ya que son las inputs necesarias para actualizar pesos de la capa oculta. \n",
    "\n",
    "#### Observaciones\n",
    "- La función de activación para las neuronas de la capa oculta es la función sigmoide, no así para las neuronas de la capa de salida, las cuales son representadas como unidades lineales para no acotar los resultados de la red a [0,1] "
   ]
  },
  {
   "cell_type": "code",
   "execution_count": 264,
   "metadata": {
    "collapsed": true
   },
   "outputs": [],
   "source": [
    "class ANN:\n",
    "    def __init__(self, n_inputs, n_hidden, n_outputs):\n",
    "        self.hidden_layer = [Neuron(n_inputs + 1) for i in range(n_hidden)]\n",
    "        self.output_layer = [Neuron(n_hidden + 1) for i in range(n_outputs)]\n",
    "\n",
    "    def forward_propagate(self, instance):\n",
    "        \n",
    "        inputs = instance\n",
    "        hidden_layer_outputs = []\n",
    "        for neuron in self.hidden_layer:\n",
    "            computed_input = neuron.compute_input(inputs)\n",
    "            neuron_output = neuron.apply_sigmoid(computed_input)\n",
    "            hidden_layer_outputs.append(neuron_output)\n",
    "        \n",
    "        inputs = hidden_layer_outputs\n",
    "        final_outputs = []\n",
    "        for neuron in self.output_layer:\n",
    "            computed_input = neuron.compute_input(inputs)\n",
    "            final_outputs.append(computed_input)        \n",
    "        \n",
    "        return final_outputs\n",
    "    \n",
    "    def update_weights(self, instance, rate):\n",
    "        \n",
    "        output_layer_inputs = []\n",
    "        for neuron in self.hidden_layer:\n",
    "            neuron.update_weights(rate, instance)\n",
    "            output_layer_inputs.append(neuron.output)\n",
    "        \n",
    "        for neuron in self.output_layer:\n",
    "            neuron.update_weights(rate, output_layer_inputs)"
   ]
  },
  {
   "cell_type": "markdown",
   "metadata": {},
   "source": [
    "### Parte a) <br>\n",
    "### Algoritmo Backpropagation"
   ]
  },
  {
   "cell_type": "code",
   "execution_count": 265,
   "metadata": {
    "collapsed": true
   },
   "outputs": [],
   "source": [
    "def backpropagation(n_inputs, n_hidden, n_outputs, max_iter, data_set, rate):\n",
    "    \n",
    "    # Crea la red neuronal artificial.     \n",
    "    neural_network = ANN(n_inputs, n_hidden, n_outputs)\n",
    "    \n",
    "    versions = []\n",
    "    \n",
    "    iterations_errors = []\n",
    "    \n",
    "    for iter in range (max_iter):\n",
    "                \n",
    "        iteration_error = 0.00000\n",
    "\n",
    "        # Se recorre el conjunto de entrenamiento.\n",
    "        # instance: ejemplo leído.\n",
    "        # expected: target value del ejemplo.\n",
    "        for (instance, expected) in data_set:\n",
    "\n",
    "            # Se clasifica la instancia.             \n",
    "            output = neural_network.forward_propagate(instance)\n",
    "            \n",
    "            # Se recorren las neuronas de la capa de salida.             \n",
    "            for index, neuron in enumerate(neural_network.output_layer):\n",
    "                # Se calcula y almacena el error de cada neurona con respecto a su \n",
    "                # componente correspondiente en el vector resultado esperado.                 \n",
    "                neuron.calculate_output_neuron_error(expected[index])\n",
    "                                     \n",
    "            # Se recorren las neuronas de la capa oculta.\n",
    "            for index, neuron in enumerate(neural_network.hidden_layer):\n",
    "                # Se calcula y almacena el error para cada neurona.               \n",
    "                neuron.calculate_hidden_neuron_error(neural_network.output_layer, index)\n",
    "            \n",
    "            # Se calcula el error entre entre la salida de la red neuronal y el valor esperado.\n",
    "            iteration_error += sum([(expected[i]-output[i])**2 for i in range(len(expected))])\n",
    "            \n",
    "            # Se actualizan todos los pesos de la red.\n",
    "            neural_network.update_weights(instance, rate)\n",
    "        \n",
    "        iterations_errors.append(iteration_error)\n",
    "\n",
    "        if (iter == 10 or iter == 100 or iter == 1000 or iter == 10000):\n",
    "            versions.append(copy.deepcopy(neural_network))\n",
    "\n",
    "    \n",
    "    versions.append(neural_network)\n",
    "    return versions, iterations_errors"
   ]
  },
  {
   "cell_type": "markdown",
   "metadata": {},
   "source": [
    "### Parte b)\n",
    "\n",
    "Se definen las funciones de la letra a utilizar junto con los conjuntos de entrenamiento:"
   ]
  },
  {
   "cell_type": "code",
   "execution_count": 266,
   "metadata": {
    "collapsed": true
   },
   "outputs": [],
   "source": [
    "def f(x):\n",
    "    return x**3 - x**2 + 1\n",
    "\n",
    "def g(x,y):\n",
    "    return 1 - x**2 - y**2\n",
    "    \n",
    "def h(x,y):\n",
    "    return x + y\n",
    "\n",
    "training_set_f = [([x],[f(x)])for x in np.random.uniform(-1,1,40)]\n",
    "training_set_g = [([x,y],[g(x,y)]) for (x,y) in list(zip(np.random.uniform(-1,1,40), np.random.uniform(-1,1,40)))]\n",
    "training_set_h = [([x,y],[h(x,y)]) for (x,y) in list(zip(np.random.uniform(-1,1,3), np.random.uniform(-1,1,3)))]"
   ]
  },
  {
   "cell_type": "markdown",
   "metadata": {},
   "source": [
    "- #### Ajustamos a la función f"
   ]
  },
  {
   "cell_type": "code",
   "execution_count": 274,
   "metadata": {},
   "outputs": [
    {
     "data": {
      "image/png": "[encoded data removed]",
      "text/plain": [
       "<matplotlib.figure.Figure at 0x12f47030470>"
      ]
     },
     "metadata": {},
     "output_type": "display_data"
    }
   ],
   "source": [
    "rate = 0.1\n",
    "iterations = 10**5\n",
    "n_input = 1\n",
    "n_hidden = 3\n",
    "n_output = 1\n",
    "\n",
    "versions_f, errors_f = backpropagation(n_input,n_hidden,n_output,iterations,training_set_f,rate)\n",
    "\n",
    "plot_errors('f', errors_f)"
   ]
  },
  {
   "cell_type": "markdown",
   "metadata": {},
   "source": [
    "- #### Ajustamos a la función g"
   ]
  },
  {
   "cell_type": "code",
   "execution_count": 275,
   "metadata": {},
   "outputs": [
    {
     "data": {
      "image/png": "[encoded data removed]",
      "text/plain": [
       "<matplotlib.figure.Figure at 0x12f47030048>"
      ]
     },
     "metadata": {},
     "output_type": "display_data"
    }
   ],
   "source": [
    "rate = 0.1\n",
    "iterations = 10**5 \n",
    "n_input = 2\n",
    "n_hidden = 3\n",
    "n_output = 1\n",
    "\n",
    "versions_g, errors_g = backpropagation(n_input,n_hidden,n_output,iterations,training_set_g,rate)\n",
    "\n",
    "plot_errors('g', errors_g)"
   ]
  },
  {
   "cell_type": "markdown",
   "metadata": {},
   "source": [
    "- #### Ajustamos a la función h"
   ]
  },
  {
   "cell_type": "code",
   "execution_count": 276,
   "metadata": {},
   "outputs": [
    {
     "data": {
      "image/png": "[encoded data removed]",
      "text/plain": [
       "<matplotlib.figure.Figure at 0x12f491c4ac8>"
      ]
     },
     "metadata": {},
     "output_type": "display_data"
    }
   ],
   "source": [
    "rate = 0.1\n",
    "iterations = 10**5 \n",
    "n_input = 2\n",
    "n_hidden = 3\n",
    "n_output = 1\n",
    "\n",
    "versions_h, errors_h = backpropagation(n_input,n_hidden,n_output,iterations,training_set_h,rate)\n",
    "\n",
    "plot_errors('h', errors_h)"
   ]
  },
  {
   "cell_type": "markdown",
   "metadata": {},
   "source": [
    "#### Funciones para graficar"
   ]
  },
  {
   "cell_type": "code",
   "execution_count": 268,
   "metadata": {
    "collapsed": true
   },
   "outputs": [],
   "source": [
    "def plot_errors(function_name, errors):\n",
    "    plt.plot(list(range(len(errors))),errors)\n",
    "    plt.title('Errores por iteración - Función ' + function_name)\n",
    "    plt.ylabel('Error')\n",
    "    plt.xlabel('Iteración')\n",
    "    plt.show()"
   ]
  }
 ],
 "metadata": {
  "kernelspec": {
   "display_name": "Python 3",
   "language": "python",
   "name": "python3"
  },
  "language_info": {
   "codemirror_mode": {
    "name": "ipython",
    "version": 3
   },
   "file_extension": ".py",
   "mimetype": "text/x-python",
   "name": "python",
   "nbconvert_exporter": "python",
   "pygments_lexer": "ipython3",
   "version": "3.6.1"
  }
 },
 "nbformat": 4,
 "nbformat_minor": 2
}
